{
 "cells": [
  {
   "cell_type": "code",
   "execution_count": 1,
   "id": "e52392e9",
   "metadata": {},
   "outputs": [
    {
     "name": "stdout",
     "output_type": "stream",
     "text": [
      "Defaulting to user installation because normal site-packages is not writeable\n",
      "Requirement already satisfied: 1OS in c:\\users\\admin\\appdata\\roaming\\python\\python39\\site-packages (0.1)\n",
      "Note: you may need to restart the kernel to use updated packages.\n"
     ]
    }
   ],
   "source": [
    "pip install 1OS"
   ]
  },
  {
   "cell_type": "code",
   "execution_count": 2,
   "id": "7d2c8cd1",
   "metadata": {},
   "outputs": [],
   "source": [
    "import os \n",
    "import warnings\n",
    "warnings.simplefilter('ignore')"
   ]
  },
  {
   "cell_type": "code",
   "execution_count": 3,
   "id": "a5c11189",
   "metadata": {},
   "outputs": [],
   "source": [
    "import numpy as np\n",
    "import pandas as pd\n",
    "import matplotlib.pyplot as  plt\n",
    "%matplotlib inline"
   ]
  },
  {
   "cell_type": "code",
   "execution_count": null,
   "id": "37a093ed",
   "metadata": {},
   "outputs": [],
   "source": [
    "from skimage.io import imread, imshow\n",
    "from skimage.transform import resize\n",
    "from skimage.color import rgb2gray"
   ]
  },
  {
   "cell_type": "code",
   "execution_count": null,
   "id": "fe3c4e2c",
   "metadata": {},
   "outputs": [],
   "source": [
    "leo=os.listdir(\"C:\\\\Users\\\\Admin\\\\Documents\\\\VIKKI 4TH\\\\Cropped DS\\\\leo\")"
   ]
  },
  {
   "cell_type": "code",
   "execution_count": null,
   "id": "d5e694aa",
   "metadata": {},
   "outputs": [],
   "source": [
    "maldini=os.listdir(\"C:\\\\Users\\\\Admin\\\\Documents\\\\VIKKI 4TH\\\\Cropped DS\\\\maldini\")"
   ]
  },
  {
   "cell_type": "code",
   "execution_count": null,
   "id": "0eac0b15",
   "metadata": {},
   "outputs": [],
   "source": [
    "david=os.listdir(\"C:\\\\Users\\\\Admin\\\\Documents\\\\VIKKI 4TH\\\\Cropped DS\\\\david\")"
   ]
  },
  {
   "cell_type": "code",
   "execution_count": null,
   "id": "09a06021",
   "metadata": {},
   "outputs": [],
   "source": [
    "limit=10\n",
    "leo_img=[None]*limit\n",
    "j=0\n",
    "for i in leo:\n",
    "    if(j<limit):\n",
    "        leo_img[j]=imread(\"C:\\\\Users\\\\Admin\\\\Documents\\\\VIKKI 4TH\\\\Cropped DS\\\\leo\\\\\"+i)\n",
    "        j+=1\n",
    "    else:\n",
    "        break"
   ]
  },
  {
   "cell_type": "code",
   "execution_count": null,
   "id": "33483f8f",
   "metadata": {},
   "outputs": [],
   "source": [
    "limit=10\n",
    "maldini_img=[None]*limit\n",
    "j=0\n",
    "for i in maldini:\n",
    "    if(j<limit):\n",
    "        maldini_img[j]=imread(\"C:\\\\Users\\\\Admin\\\\Documents\\\\VIKKI 4TH\\\\Cropped DS\\\\maldini\\\\\"+i)\n",
    "        j+=1\n",
    "    else:\n",
    "        break"
   ]
  },
  {
   "cell_type": "code",
   "execution_count": null,
   "id": "f0d0a179",
   "metadata": {},
   "outputs": [],
   "source": [
    "limit=10\n",
    "david_img=[None]*limit\n",
    "j=0\n",
    "for i in david:\n",
    "    if(j<limit):\n",
    "        david_img[j]=imread(\"C:\\\\Users\\\\Admin\\\\Documents\\\\VIKKI 4TH\\\\Cropped DS\\\\david\\\\\"+i)\n",
    "        j+=1\n",
    "    else:\n",
    "        break"
   ]
  },
  {
   "cell_type": "code",
   "execution_count": null,
   "id": "d028ce2a",
   "metadata": {},
   "outputs": [],
   "source": [
    "imshow(leo_img[0]) "
   ]
  },
  {
   "cell_type": "markdown",
   "id": "039908c4",
   "metadata": {},
   "source": [
    "# B-3 GRAY RGB2"
   ]
  },
  {
   "cell_type": "code",
   "execution_count": null,
   "id": "ea1f5c8b",
   "metadata": {},
   "outputs": [],
   "source": [
    "leo_gray=[None]*limit\n",
    "j=0\n",
    "for i in leo:\n",
    "    if(j<limit):\n",
    "        leo_gray[j]=rgb2gray(leo_img[j])\n",
    "        j+=1\n",
    "    else:\n",
    "        break"
   ]
  },
  {
   "cell_type": "code",
   "execution_count": null,
   "id": "e638d1b6",
   "metadata": {},
   "outputs": [],
   "source": [
    "david_gray=[None]*limit\n",
    "j=0\n",
    "for i in david:\n",
    "    if(j<limit):\n",
    "        david_gray[j]=rgb2gray(david_img[j])\n",
    "        j+=1\n",
    "    else:\n",
    "        break"
   ]
  },
  {
   "cell_type": "code",
   "execution_count": null,
   "id": "055a9623",
   "metadata": {},
   "outputs": [],
   "source": [
    "maldini_gray=[None]*limit\n",
    "j=0\n",
    "for i in maldini:\n",
    "    if(j<limit):\n",
    "        maldini_gray[j]=rgb2gray(maldini_img[j][:,:,:3])\n",
    "        j+=1\n",
    "    else:\n",
    "        break"
   ]
  },
  {
   "cell_type": "code",
   "execution_count": null,
   "id": "6cb27063",
   "metadata": {},
   "outputs": [],
   "source": [
    "for j in range (10):\n",
    "    lm=leo_gray[j]\n",
    "    leo_gray[j]=resize(lm,(512,512))"
   ]
  },
  {
   "cell_type": "code",
   "execution_count": null,
   "id": "c7721f82",
   "metadata": {},
   "outputs": [],
   "source": [
    "for j in range (10):\n",
    "    pm=maldini_gray[j]\n",
    "    maldini_gray[j]=resize(pm,(512,512))"
   ]
  },
  {
   "cell_type": "code",
   "execution_count": null,
   "id": "dcb7d1ff",
   "metadata": {},
   "outputs": [],
   "source": [
    "for j in range (10):\n",
    "    db=david_gray[j]\n",
    "    david_gray[j]=resize(db,(512,512))"
   ]
  },
  {
   "cell_type": "code",
   "execution_count": null,
   "id": "3aa73ac1",
   "metadata": {},
   "outputs": [],
   "source": [
    "leo_gray[0].shape"
   ]
  },
  {
   "cell_type": "code",
   "execution_count": null,
   "id": "97feef1d",
   "metadata": {},
   "outputs": [],
   "source": [
    "imshow(leo_gray[0]) "
   ]
  },
  {
   "cell_type": "markdown",
   "id": "e71ae856",
   "metadata": {},
   "source": [
    "# B-6 Find out the number of gray_scale img"
   ]
  },
  {
   "cell_type": "code",
   "execution_count": null,
   "id": "869ac3a2",
   "metadata": {},
   "outputs": [],
   "source": [
    "len_of_img_leo=len(leo_gray)\n",
    "len_of_img_leo"
   ]
  },
  {
   "cell_type": "code",
   "execution_count": null,
   "id": "6ab354b5",
   "metadata": {},
   "outputs": [],
   "source": [
    "img_size_leo=leo_gray[1].shape\n",
    "img_size_leo"
   ]
  },
  {
   "cell_type": "markdown",
   "id": "2d410ccf",
   "metadata": {},
   "source": [
    "# Flatten size"
   ]
  },
  {
   "cell_type": "code",
   "execution_count": null,
   "id": "1702c48f",
   "metadata": {},
   "outputs": [],
   "source": [
    "flatten_size_leo=img_size_leo[0]*img_size_leo[1]\n",
    "flatten_size_leo"
   ]
  },
  {
   "cell_type": "code",
   "execution_count": null,
   "id": "f0315d06",
   "metadata": {},
   "outputs": [],
   "source": [
    "for i in range(len_of_img_leo):\n",
    "    leo_gray[i]=np.ndarray.flatten(leo_gray[i]).reshape(flatten_size_leo,1)"
   ]
  },
  {
   "cell_type": "code",
   "execution_count": null,
   "id": "e724ce2d",
   "metadata": {},
   "outputs": [],
   "source": [
    "np.ndarray.flatten"
   ]
  },
  {
   "cell_type": "code",
   "execution_count": null,
   "id": "d5e14fa5",
   "metadata": {},
   "outputs": [],
   "source": [
    "leo_gray=np.dstack(leo_gray)\n",
    "leo_gray"
   ]
  },
  {
   "cell_type": "code",
   "execution_count": null,
   "id": "694f54c0",
   "metadata": {},
   "outputs": [],
   "source": [
    "leo_gray.shape"
   ]
  },
  {
   "cell_type": "code",
   "execution_count": null,
   "id": "9fbee7da",
   "metadata": {},
   "outputs": [],
   "source": [
    "leo_gray=np.rollaxis(leo_gray,axis=2,start=0)\n",
    "leo_gray.shape"
   ]
  },
  {
   "cell_type": "code",
   "execution_count": null,
   "id": "816164e3",
   "metadata": {},
   "outputs": [],
   "source": [
    "leo_gray=leo_gray.reshape(len_of_img_leo,flatten_size_leo)\n",
    "leo_gray.shape"
   ]
  },
  {
   "cell_type": "code",
   "execution_count": null,
   "id": "8645a561",
   "metadata": {},
   "outputs": [],
   "source": [
    "leo_data=pd.DataFrame(leo_gray)"
   ]
  },
  {
   "cell_type": "code",
   "execution_count": null,
   "id": "49065a35",
   "metadata": {},
   "outputs": [],
   "source": [
    "leo_data"
   ]
  },
  {
   "cell_type": "code",
   "execution_count": null,
   "id": "b4755e13",
   "metadata": {},
   "outputs": [],
   "source": [
    "leo_data[\"Label\"]=\"leo\"\n",
    "leo_data"
   ]
  },
  {
   "cell_type": "markdown",
   "id": "6a6fa7ea",
   "metadata": {},
   "source": [
    "# FOR Maldini"
   ]
  },
  {
   "cell_type": "code",
   "execution_count": null,
   "id": "8f6c8de1",
   "metadata": {},
   "outputs": [],
   "source": [
    "len_of_img_maldini=len(maldini_gray)\n",
    "len_of_img_maldini"
   ]
  },
  {
   "cell_type": "code",
   "execution_count": null,
   "id": "7b21c5c6",
   "metadata": {},
   "outputs": [],
   "source": [
    "img_size_maldini=maldini_gray[1].shape\n",
    "img_size_maldini"
   ]
  },
  {
   "cell_type": "code",
   "execution_count": null,
   "id": "bdc9b6a5",
   "metadata": {},
   "outputs": [],
   "source": [
    "flatten_size_maldini=img_size_maldini[0]*img_size_maldini[1]\n",
    "flatten_size_maldini"
   ]
  },
  {
   "cell_type": "code",
   "execution_count": null,
   "id": "a7e6b2d1",
   "metadata": {},
   "outputs": [],
   "source": [
    "for i in range(len_of_img_maldini):\n",
    "    maldini_gray[i]=np.ndarray.flatten(maldini_gray[i]).reshape(flatten_size_maldini,1)"
   ]
  },
  {
   "cell_type": "code",
   "execution_count": null,
   "id": "69be0637",
   "metadata": {},
   "outputs": [],
   "source": [
    "np.ndarray.flatten"
   ]
  },
  {
   "cell_type": "code",
   "execution_count": null,
   "id": "01850b8d",
   "metadata": {},
   "outputs": [],
   "source": [
    "maldini_gray=np.dstack(maldini_gray)\n",
    "maldini_gray"
   ]
  },
  {
   "cell_type": "code",
   "execution_count": null,
   "id": "7d9585e6",
   "metadata": {},
   "outputs": [],
   "source": [
    "maldini_gray.shape"
   ]
  },
  {
   "cell_type": "code",
   "execution_count": null,
   "id": "01373cc5",
   "metadata": {},
   "outputs": [],
   "source": [
    "maldini_gray=np.rollaxis(maldini_gray,axis=2,start=0)\n",
    "maldini_gray.shape"
   ]
  },
  {
   "cell_type": "code",
   "execution_count": null,
   "id": "3f7c8e3a",
   "metadata": {},
   "outputs": [],
   "source": [
    "maldini_gray=maldini_gray.reshape(len_of_img_maldini,flatten_size_maldini)\n",
    "maldini_gray.shape"
   ]
  },
  {
   "cell_type": "code",
   "execution_count": null,
   "id": "a128377d",
   "metadata": {},
   "outputs": [],
   "source": [
    "maldini_data=pd.DataFrame(maldini_gray)"
   ]
  },
  {
   "cell_type": "code",
   "execution_count": null,
   "id": "0ba4f932",
   "metadata": {},
   "outputs": [],
   "source": [
    "maldini_data"
   ]
  },
  {
   "cell_type": "code",
   "execution_count": null,
   "id": "4c8b959e",
   "metadata": {},
   "outputs": [],
   "source": [
    "maldini_data[\"Label\"]=\"maldini\"\n",
    "maldini_data"
   ]
  },
  {
   "cell_type": "markdown",
   "id": "160e35e3",
   "metadata": {},
   "source": [
    "# For David"
   ]
  },
  {
   "cell_type": "code",
   "execution_count": null,
   "id": "0720d1d7",
   "metadata": {},
   "outputs": [],
   "source": [
    "len_of_img_david=len(david_gray)\n",
    "len_of_img_david"
   ]
  },
  {
   "cell_type": "code",
   "execution_count": null,
   "id": "e8b1320a",
   "metadata": {},
   "outputs": [],
   "source": [
    "img_size_david=david_gray[1].shape\n",
    "img_size_david"
   ]
  },
  {
   "cell_type": "code",
   "execution_count": null,
   "id": "85ad4543",
   "metadata": {},
   "outputs": [],
   "source": [
    "flatten_size_david=img_size_david[0]*img_size_david[1]\n",
    "flatten_size_david"
   ]
  },
  {
   "cell_type": "code",
   "execution_count": null,
   "id": "97743060",
   "metadata": {},
   "outputs": [],
   "source": [
    "for i in range(len_of_img_david):\n",
    "    david_gray[i]=np.ndarray.flatten(david_gray[i]).reshape(flatten_size_david,1)"
   ]
  },
  {
   "cell_type": "code",
   "execution_count": null,
   "id": "0c2e55f0",
   "metadata": {},
   "outputs": [],
   "source": [
    "np.ndarray.flatten"
   ]
  },
  {
   "cell_type": "code",
   "execution_count": null,
   "id": "4d129d63",
   "metadata": {},
   "outputs": [],
   "source": [
    "david_gray=np.dstack(david_gray)\n",
    "david_gray"
   ]
  },
  {
   "cell_type": "code",
   "execution_count": null,
   "id": "22771be6",
   "metadata": {},
   "outputs": [],
   "source": [
    "david_gray.shape"
   ]
  },
  {
   "cell_type": "code",
   "execution_count": null,
   "id": "b9a79b17",
   "metadata": {},
   "outputs": [],
   "source": [
    "david_gray=np.rollaxis(david_gray,axis=2,start=0)\n",
    "david_gray.shape"
   ]
  },
  {
   "cell_type": "code",
   "execution_count": null,
   "id": "7ea09d1b",
   "metadata": {},
   "outputs": [],
   "source": [
    "david_gray=david_gray.reshape(len_of_img_david,flatten_size_david)\n",
    "david_gray.shape"
   ]
  },
  {
   "cell_type": "code",
   "execution_count": null,
   "id": "5d4ad9a5",
   "metadata": {},
   "outputs": [],
   "source": [
    "david_data=pd.DataFrame(david_gray)"
   ]
  },
  {
   "cell_type": "code",
   "execution_count": null,
   "id": "a0950674",
   "metadata": {},
   "outputs": [],
   "source": [
    "david_data"
   ]
  },
  {
   "cell_type": "code",
   "execution_count": null,
   "id": "fc02b62e",
   "metadata": {},
   "outputs": [],
   "source": [
    "david_data[\"Label\"]=\"david\"\n",
    "david_data"
   ]
  },
  {
   "cell_type": "markdown",
   "id": "f6b9d61e",
   "metadata": {},
   "source": [
    "# Merge Imgs"
   ]
  },
  {
   "cell_type": "code",
   "execution_count": null,
   "id": "f5a6023f",
   "metadata": {},
   "outputs": [],
   "source": [
    "man_1=pd.concat([leo_data,maldini_data])"
   ]
  },
  {
   "cell_type": "code",
   "execution_count": null,
   "id": "f233e023",
   "metadata": {},
   "outputs": [],
   "source": [
    "man=pd.concat([man_1,david_data])"
   ]
  },
  {
   "cell_type": "code",
   "execution_count": null,
   "id": "3e7409f7",
   "metadata": {},
   "outputs": [],
   "source": [
    "man"
   ]
  },
  {
   "cell_type": "markdown",
   "id": "0a064784",
   "metadata": {},
   "source": [
    "# Shuffling"
   ]
  },
  {
   "cell_type": "code",
   "execution_count": 4,
   "id": "b344cf15",
   "metadata": {},
   "outputs": [
    {
     "ename": "ModuleNotFoundError",
     "evalue": "No module named 'sklearn.utlis'",
     "output_type": "error",
     "traceback": [
      "\u001b[1;31m---------------------------------------------------------------------------\u001b[0m",
      "\u001b[1;31mModuleNotFoundError\u001b[0m                       Traceback (most recent call last)",
      "\u001b[1;32m~\\AppData\\Local\\Temp\\ipykernel_25868\\3275404785.py\u001b[0m in \u001b[0;36m<module>\u001b[1;34m\u001b[0m\n\u001b[1;32m----> 1\u001b[1;33m \u001b[1;32mfrom\u001b[0m \u001b[0msklearn\u001b[0m\u001b[1;33m.\u001b[0m\u001b[0mutlis\u001b[0m \u001b[1;32mimport\u001b[0m \u001b[0mshuffle\u001b[0m\u001b[1;33m\u001b[0m\u001b[1;33m\u001b[0m\u001b[0m\n\u001b[0m",
      "\u001b[1;31mModuleNotFoundError\u001b[0m: No module named 'sklearn.utlis'"
     ]
    }
   ],
   "source": [
    "from sklearn.utlis import shuffle"
   ]
  },
  {
   "cell_type": "code",
   "execution_count": null,
   "id": "11d2516b",
   "metadata": {},
   "outputs": [],
   "source": [
    "holy_indexed=shuffle(image).reset_index()"
   ]
  },
  {
   "cell_type": "code",
   "execution_count": null,
   "id": "90aeea6c",
   "metadata": {},
   "outputs": [],
   "source": [
    "holy_man=holy_indexed.drop(['index'],axis=1)\n",
    "holy_man"
   ]
  },
  {
   "cell_type": "code",
   "execution_count": null,
   "id": "a0b92729",
   "metadata": {},
   "outputs": [],
   "source": []
  },
  {
   "cell_type": "code",
   "execution_count": null,
   "id": "2dbf1f70",
   "metadata": {},
   "outputs": [],
   "source": []
  }
 ],
 "metadata": {
  "kernelspec": {
   "display_name": "Python 3 (ipykernel)",
   "language": "python",
   "name": "python3"
  },
  "language_info": {
   "codemirror_mode": {
    "name": "ipython",
    "version": 3
   },
   "file_extension": ".py",
   "mimetype": "text/x-python",
   "name": "python",
   "nbconvert_exporter": "python",
   "pygments_lexer": "ipython3",
   "version": "3.9.13"
  }
 },
 "nbformat": 4,
 "nbformat_minor": 5
}
