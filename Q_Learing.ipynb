{
  "nbformat": 4,
  "nbformat_minor": 0,
  "metadata": {
    "colab": {
      "provenance": []
    },
    "kernelspec": {
      "name": "python3",
      "display_name": "Python 3"
    },
    "language_info": {
      "name": "python"
    }
  },
  "cells": [
    {
      "cell_type": "markdown",
      "source": [],
      "metadata": {
        "id": "zZcPSeSUQlzf"
      }
    },
    {
      "cell_type": "markdown",
      "source": [
        "Import Library"
      ],
      "metadata": {
        "id": "v0SETs5DQKVm"
      }
    },
    {
      "cell_type": "code",
      "source": [
        "pip install gym"
      ],
      "metadata": {
        "colab": {
          "base_uri": "https://localhost:8080/"
        },
        "id": "n2n9qmEbQLif",
        "outputId": "35ead3ee-27af-4b46-ff57-72cd895a8cea"
      },
      "execution_count": 1,
      "outputs": [
        {
          "output_type": "stream",
          "name": "stdout",
          "text": [
            "Requirement already satisfied: gym in /usr/local/lib/python3.10/dist-packages (0.25.2)\n",
            "Requirement already satisfied: numpy>=1.18.0 in /usr/local/lib/python3.10/dist-packages (from gym) (1.25.2)\n",
            "Requirement already satisfied: cloudpickle>=1.2.0 in /usr/local/lib/python3.10/dist-packages (from gym) (2.2.1)\n",
            "Requirement already satisfied: gym-notices>=0.0.4 in /usr/local/lib/python3.10/dist-packages (from gym) (0.0.8)\n"
          ]
        }
      ]
    },
    {
      "cell_type": "code",
      "source": [
        "import numpy as np\n",
        "import gym"
      ],
      "metadata": {
        "id": "FvQJurGoRbJI"
      },
      "execution_count": 2,
      "outputs": []
    },
    {
      "cell_type": "code",
      "source": [
        "def eps_greedy(Q, s, eps=0.1):\n",
        "    if np.random.uniform(0,1) < eps:\n",
        "        return np.random.randint(Q.shape[1])\n",
        "    else:\n",
        "        return greedy(Q, s)"
      ],
      "metadata": {
        "id": "BkXmsXx9F2qJ"
      },
      "execution_count": 16,
      "outputs": []
    },
    {
      "cell_type": "markdown",
      "source": [
        "Epsilon Greedy POlicy"
      ],
      "metadata": {
        "id": "D7-jD18aD3wi"
      }
    },
    {
      "cell_type": "code",
      "source": [
        "def greedy (Q, s):\n",
        "    return np.argmax(Q[s])"
      ],
      "metadata": {
        "id": "f-5AG-hPGAJK"
      },
      "execution_count": 17,
      "outputs": []
    },
    {
      "cell_type": "markdown",
      "source": [
        "Policy test"
      ],
      "metadata": {
        "id": "KSFKkv58IG7R"
      }
    },
    {
      "cell_type": "code",
      "source": [
        "def run_episodes(env, Q, num_episodes=100, to_print=False):\n",
        "    tot_rew = []\n",
        "    state = env.reset()\n",
        "\n",
        "    for _ in range(num_episodes):\n",
        "        done = False\n",
        "        game_rew = 0\n",
        "\n",
        "        while not done:\n",
        "            next_state, rew, done, _ = env.step(greedy(Q, state))\n",
        "\n",
        "            state = next_state\n",
        "            game_rew += rew\n",
        "            if done:\n",
        "                state = env.reset()\n",
        "                tot_rew.append(game_rew)\n",
        "\n",
        "    if to_print:\n",
        "        print('Mean score: %.3f of %i games!' % (np.mean(tot_rew), num_episodes))\n",
        "    return np.mean(tot_rew)"
      ],
      "metadata": {
        "id": "1rbMxk3fIImS"
      },
      "execution_count": 21,
      "outputs": []
    },
    {
      "cell_type": "markdown",
      "source": [
        "Q-Learning"
      ],
      "metadata": {
        "id": "rvCIRS4PKXeD"
      }
    },
    {
      "cell_type": "code",
      "source": [
        "def Q_learning(env, lr=0.01, num_episodes=10000, eps=0.3, gamma=0.95, eps_decay=0.00005):\n",
        "    nA = env.action_space.n\n",
        "    nS = env.observation_space.n\n",
        "\n",
        "    Q = np.zeros((nS, nA))\n",
        "    games_reward = []\n",
        "    test_rewards = []\n",
        "\n",
        "    for ep in range(num_episodes):\n",
        "        state = env.reset()\n",
        "        tot_rew = 0\n",
        "\n",
        "        if eps > 0.01:\n",
        "            eps -= eps_decay\n",
        "\n",
        "        done = False\n",
        "        while not done:\n",
        "            action = eps_greedy(Q, state, eps)\n",
        "            next_state, rew, done, _ = env.step(action)\n",
        "\n",
        "            Q[state][action] = Q[state][action] + lr * (rew + gamma * np.max(Q[next_state]) - Q[state][action])\n",
        "\n",
        "            state = next_state\n",
        "            tot_rew += rew\n",
        "            if done:\n",
        "                games_reward.append(tot_rew)\n",
        "\n",
        "        if (ep % 300) == 0:\n",
        "            test_rew = run_episodes(env, Q, 1000)\n",
        "            print(\"Episode:{:5d} Eps:{:2.4f} Rew:{:2.4f}\".format(ep, eps, test_rew))\n",
        "            test_rewards.append(test_rew)\n",
        "\n",
        "    return Q\n"
      ],
      "metadata": {
        "id": "5wWDybneKYb6"
      },
      "execution_count": 35,
      "outputs": []
    },
    {
      "cell_type": "code",
      "source": [
        "if __name__ == '__main__':\n",
        "   env = gym.make('Taxi-v3')\n",
        "   print(\"Q-Learning\")\n",
        "   Q_learning = Q_learning(env, lr=.1, num_episodes= 5000, eps= 0.4 , gamma = 0.95, eps_decay=0.001)"
      ],
      "metadata": {
        "colab": {
          "base_uri": "https://localhost:8080/"
        },
        "id": "RRodzqDLUmgE",
        "outputId": "fd9eb66a-407b-4034-c13e-a1cd4a678b1c"
      },
      "execution_count": 36,
      "outputs": [
        {
          "output_type": "stream",
          "name": "stdout",
          "text": [
            "Q-Learning\n",
            "Episode:    0 Eps:0.3990 Rew:-241.3190\n",
            "Episode:  300 Eps:0.0990 Rew:-212.2510\n",
            "Episode:  600 Eps:0.0100 Rew:-227.5580\n",
            "Episode:  900 Eps:0.0100 Rew:-190.4110\n",
            "Episode: 1200 Eps:0.0100 Rew:-119.1710\n",
            "Episode: 1500 Eps:0.0100 Rew:-73.5610\n",
            "Episode: 1800 Eps:0.0100 Rew:-54.2760\n",
            "Episode: 2100 Eps:0.0100 Rew:-21.2480\n",
            "Episode: 2400 Eps:0.0100 Rew:-5.1300\n",
            "Episode: 2700 Eps:0.0100 Rew:0.1800\n",
            "Episode: 3000 Eps:0.0100 Rew:4.6000\n",
            "Episode: 3300 Eps:0.0100 Rew:2.9400\n",
            "Episode: 3600 Eps:0.0100 Rew:7.8860\n",
            "Episode: 3900 Eps:0.0100 Rew:7.9900\n",
            "Episode: 4200 Eps:0.0100 Rew:7.8780\n",
            "Episode: 4500 Eps:0.0100 Rew:7.7900\n",
            "Episode: 4800 Eps:0.0100 Rew:7.9870\n"
          ]
        }
      ]
    },
    {
      "cell_type": "code",
      "source": [],
      "metadata": {
        "id": "HvWlR5-rU2ij"
      },
      "execution_count": null,
      "outputs": []
    }
  ]
}